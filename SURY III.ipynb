{
 "cells": [
  {
   "cell_type": "code",
   "execution_count": 17,
   "metadata": {},
   "outputs": [],
   "source": [
    "import pandas as pd\n",
    "from yahoo_finance import Share\n",
    "from datetime import datetime, timedelta\n",
    "import os\n",
    "from datetime import date\n",
    "import statsmodels.api as sm\n",
    "from yahoofinancials import YahooFinancials"
   ]
  },
  {
   "cell_type": "markdown",
   "metadata": {},
   "source": [
    "# Homework 2\n",
    "Dandi Chen\n",
    "Puja Subramanian\n",
    "Brandan Whiteley\n",
    "Trisha Paul"
   ]
  },
  {
   "cell_type": "markdown",
   "metadata": {},
   "source": [
    "### Please run the functions at the bottom before running the program below (since they utilize the functions)"
   ]
  },
  {
   "cell_type": "markdown",
   "metadata": {},
   "source": [
    "### Actual Program - Output include: cvs files that have data for both the companies and the bench mark as well as regression result"
   ]
  },
  {
   "cell_type": "markdown",
   "metadata": {},
   "source": [
    "#### Query date from user, using functions"
   ]
  },
  {
   "cell_type": "code",
   "execution_count": 18,
   "metadata": {},
   "outputs": [
    {
     "name": "stdout",
     "output_type": "stream",
     "text": [
      "Enter the number of stock you want to query:2\n",
      "Enter the stock you want to query (Ticker only):aapl\n",
      "through\n",
      "through 10\n",
      "Enter the stock you want to query (Ticker only):msft\n",
      "through\n",
      "through 10\n",
      "you are getting  ['AAPL', 'MSFT']\n",
      "Date format: YYYYMMDD\n",
      "Search Start year (Press enter to pass):20180101\n",
      "Search end year (Press enter to pass):20190101\n",
      "Enter the bench mark (options: Press 1 for SP500, Press 2 for Russell 3000, Press 3 for Nasdaq):1\n",
      "Enter the risk free rate(please enter in percentage): 2\n"
     ]
    }
   ],
   "source": [
    "#get user input\n",
    "limit = get_limit()\n",
    "tickers_list = get_tickers(limit)\n",
    "print('you are getting ', tickers_list)\n",
    "start_date, end_date = get_year()\n",
    "#this step is to get date formatted \n",
    "start = start_date[:10]\n",
    "end = end_date[:10]\n",
    "bench = get_benchmark()\n",
    "rf = get_riskfree()"
   ]
  },
  {
   "cell_type": "markdown",
   "metadata": {},
   "source": [
    "#### Organizing bench mark data to a dataframe that contains date and price (adjusted close)"
   ]
  },
  {
   "cell_type": "code",
   "execution_count": 24,
   "metadata": {},
   "outputs": [],
   "source": [
    "## #get benchmark data\n",
    "##using API to get adjusted price for bench mark\n",
    "bench_date=[]\n",
    "bench_price = []\n",
    "bench_mark = YahooFinancials(bench)\n",
    "bench_history = bench_mark.get_historical_price_data(start,end,'daily')\n",
    "bench_his_all = bench_history.get(bench).get('prices')\n",
    "\n",
    "for day in bench_his_all:\n",
    "    bench_date.append(day.get('formatted_date'))\n",
    "    bench_price.append(day.get('adjclose'))\n",
    "\n",
    "#create data frame and write to csv\n",
    "bench_df = pd.DataFrame(bench_date)\n",
    "bench_df['price'] = bench_price\n",
    "bench_df.rename(columns = {0:'date'})\n",
    "\n",
    "bench_df.to_csv('benchmark_price.csv')"
   ]
  },
  {
   "cell_type": "markdown",
   "metadata": {},
   "source": [
    "#### organizing company data to dataframe that contain date and price in a list\n",
    "list format:\n",
    "\n",
    "list = [[company name, company data in dataframe],[company name, company data in dataframe]]"
   ]
  },
  {
   "cell_type": "code",
   "execution_count": 20,
   "metadata": {},
   "outputs": [],
   "source": [
    "\n",
    "comp_df_list=[]\n",
    "#get company data\n",
    "for ticker in tickers_list:\n",
    "    pair = []\n",
    "    company = YahooFinancials(ticker)\n",
    "    history= company.get_historical_price_data(start, end,'daily')\n",
    "    price_history_all =history.get(ticker).get('prices')\n",
    "    date = []\n",
    "    price = []\n",
    "    for day in price_history_all:\n",
    "        date.append(day.get('formatted_date'))\n",
    "        price.append(day.get('adjclose'))\n",
    "        \n",
    "    df = pd.DataFrame(date)\n",
    "    df['adj_price'] = price\n",
    "    df.rename(columns = {0:'date'})\n",
    "    filename = '{}.csv'.format(ticker)\n",
    "\n",
    "    df.to_csv(filename)\n",
    "    pair.append(ticker)\n",
    "    pair.append(df)\n",
    "    comp_df_list.append(pair)\n",
    "    \n",
    "        "
   ]
  },
  {
   "cell_type": "markdown",
   "metadata": {},
   "source": [
    "#### get bench market return "
   ]
  },
  {
   "cell_type": "code",
   "execution_count": 21,
   "metadata": {},
   "outputs": [],
   "source": [
    "bench_df['shift'] = bench_df['price'].shift(1)\n",
    "bench_df['ret'] = bench_df['price']/bench_df['shift']-1\n",
    "bench_df['ret-rf']=bench_df['ret']-rf\n",
    "bench_df = bench_df.fillna(0)\n",
    "bench_return = bench_df['ret-rf']"
   ]
  },
  {
   "cell_type": "markdown",
   "metadata": {},
   "source": [
    "#### get the company return and run regression"
   ]
  },
  {
   "cell_type": "code",
   "execution_count": 22,
   "metadata": {},
   "outputs": [
    {
     "name": "stdout",
     "output_type": "stream",
     "text": [
      "AAPL\n",
      "                            OLS Regression Results                            \n",
      "==============================================================================\n",
      "Dep. Variable:                 ret-rf   R-squared:                       0.556\n",
      "Model:                            OLS   Adj. R-squared:                  0.555\n",
      "Method:                 Least Squares   F-statistic:                     312.4\n",
      "Date:                Sat, 14 Dec 2019   Prob (F-statistic):           7.52e-46\n",
      "Time:                        20:18:18   Log-Likelihood:                 882.86\n",
      "No. Observations:                 251   AIC:                            -1762.\n",
      "Df Residuals:                     249   BIC:                            -1755.\n",
      "Df Model:                           1                                         \n",
      "Covariance Type:            nonrobust                                         \n",
      "==============================================================================\n",
      "                 coef    std err          t      P>|t|      [0.025      0.975]\n",
      "------------------------------------------------------------------------------\n",
      "const         -0.0112      0.001    -16.530      0.000      -0.013      -0.010\n",
      "ret-rf         0.4449      0.025     17.674      0.000       0.395       0.494\n",
      "==============================================================================\n",
      "Omnibus:                       46.693   Durbin-Watson:                   1.784\n",
      "Prob(Omnibus):                  0.000   Jarque-Bera (JB):              112.921\n",
      "Skew:                          -0.861   Prob(JB):                     3.02e-25\n",
      "Kurtosis:                       5.799   Cond. No.                         55.3\n",
      "==============================================================================\n",
      "\n",
      "Warnings:\n",
      "[1] Standard Errors assume that the covariance matrix of the errors is correctly specified.\n",
      "+++++++++++++++++++++++++++++++++++++++++++++++++++++++++++++++++++++++++++++++++\n",
      "+++++++++++++++++++++++++++++++++++++++++++++++++++++++++++++++++++++++++++++++++\n",
      "+++++++++++++++++++++++++++++++++++++++++++++++++++++++++++++++++++++++++++++++++\n",
      "+++++++++++++++++++++++++++++++++++++++++++++++++++++++++++++++++++++++++++++++++\n",
      "MSFT\n",
      "                            OLS Regression Results                            \n",
      "==============================================================================\n",
      "Dep. Variable:                 ret-rf   R-squared:                       0.763\n",
      "Model:                            OLS   Adj. R-squared:                  0.762\n",
      "Method:                 Least Squares   F-statistic:                     799.8\n",
      "Date:                Sat, 14 Dec 2019   Prob (F-statistic):           1.03e-79\n",
      "Time:                        20:18:18   Log-Likelihood:                 961.30\n",
      "No. Observations:                 251   AIC:                            -1919.\n",
      "Df Residuals:                     249   BIC:                            -1912.\n",
      "Df Model:                           1                                         \n",
      "Covariance Type:            nonrobust                                         \n",
      "==============================================================================\n",
      "                 coef    std err          t      P>|t|      [0.025      0.975]\n",
      "------------------------------------------------------------------------------\n",
      "const         -0.0101      0.000    -20.711      0.000      -0.011      -0.009\n",
      "ret-rf         0.5287      0.019     28.280      0.000       0.492       0.566\n",
      "==============================================================================\n",
      "Omnibus:                       11.462   Durbin-Watson:                   1.893\n",
      "Prob(Omnibus):                  0.003   Jarque-Bera (JB):               19.314\n",
      "Skew:                          -0.246   Prob(JB):                     6.40e-05\n",
      "Kurtosis:                       4.267   Cond. No.                         56.2\n",
      "==============================================================================\n",
      "\n",
      "Warnings:\n",
      "[1] Standard Errors assume that the covariance matrix of the errors is correctly specified.\n",
      "+++++++++++++++++++++++++++++++++++++++++++++++++++++++++++++++++++++++++++++++++\n",
      "+++++++++++++++++++++++++++++++++++++++++++++++++++++++++++++++++++++++++++++++++\n",
      "+++++++++++++++++++++++++++++++++++++++++++++++++++++++++++++++++++++++++++++++++\n",
      "+++++++++++++++++++++++++++++++++++++++++++++++++++++++++++++++++++++++++++++++++\n"
     ]
    },
    {
     "name": "stderr",
     "output_type": "stream",
     "text": [
      "/Library/Frameworks/Python.framework/Versions/3.7/lib/python3.7/site-packages/numpy/core/fromnumeric.py:2495: FutureWarning: Method .ptp is deprecated and will be removed in a future version. Use numpy.ptp instead.\n",
      "  return ptp(axis=axis, out=out, **kwargs)\n"
     ]
    }
   ],
   "source": [
    "for comp in comp_df_list:\n",
    "    compname = comp[0]\n",
    "    df = comp[1]\n",
    "    df['shift'] =  df['adj_price'].shift(1)\n",
    "    df['ret'] =   df['adj_price']/  df['shift']-1\n",
    "    df['ret-rf']=  df['ret']-rf\n",
    "    df =df.fillna(0)\n",
    "    df_return = df['ret-rf']\n",
    "    \n",
    "    #regression\n",
    "    X=df_return\n",
    "    Y=bench_return\n",
    "    X1 = sm.add_constant(X)\n",
    "    model = sm.OLS(Y, X1)\n",
    "    res = model.fit()\n",
    "    print(compname)\n",
    "    print(res.summary())\n",
    "    print('+++++++++++++++++++++++++++++++++++++++++++++++++++++++++++++++++++++++++++++++++')\n",
    "    print('+++++++++++++++++++++++++++++++++++++++++++++++++++++++++++++++++++++++++++++++++')\n",
    "    print('+++++++++++++++++++++++++++++++++++++++++++++++++++++++++++++++++++++++++++++++++')\n",
    "    print('+++++++++++++++++++++++++++++++++++++++++++++++++++++++++++++++++++++++++++++++++')\n",
    "    \n",
    "    "
   ]
  },
  {
   "cell_type": "code",
   "execution_count": null,
   "metadata": {},
   "outputs": [],
   "source": []
  },
  {
   "cell_type": "markdown",
   "metadata": {},
   "source": [
    "# The following are functions used in program above"
   ]
  },
  {
   "cell_type": "markdown",
   "metadata": {},
   "source": [
    "#### GET TICKER AND CHECK CORRECTNESS\n",
    "Tickers are checked by seeing if they have price data from early December 2019"
   ]
  },
  {
   "cell_type": "code",
   "execution_count": 10,
   "metadata": {},
   "outputs": [],
   "source": [
    "#get ticker and check if that ticker is valid\n",
    "def get_ticker():\n",
    "    inputuser = False\n",
    "    while inputuser == False:\n",
    "        inputuser  = input('Enter the stock you want to query (Ticker only):')\n",
    "        try:\n",
    "            ticker = YahooFinancials(inputuser.upper())\n",
    "            print('through')\n",
    "            length = len(ticker.get_historical_price_data('2019-12-01', '2019-12-14', 'daily')\\\n",
    "                                            .get(inputuser.upper()).get('prices'))\n",
    "            print('through',length)\n",
    "            if length>0:\n",
    "                return inputuser\n",
    "            else:\n",
    "                print('invalid, please try again')\n",
    "                inputuser=False\n",
    "        except:\n",
    "            print('Error, please enter the correct ticker')\n",
    "            inputuser = False\n",
    "            \n",
    "#control how many tickers the user is intend to query\n",
    "def get_tickers(limit):\n",
    "    ticker_list =[]\n",
    "    for i in range(0, limit):\n",
    "        ticker  = get_ticker()\n",
    "        ticker_list.append(ticker.upper())\n",
    "    \n",
    "    return ticker_list\n",
    "        "
   ]
  },
  {
   "cell_type": "markdown",
   "metadata": {},
   "source": [
    "#### Get how many user wants to query"
   ]
  },
  {
   "cell_type": "code",
   "execution_count": 11,
   "metadata": {},
   "outputs": [],
   "source": [
    "def get_limit():\n",
    "    limit = False\n",
    "    while limit == False:\n",
    "        limit  = input('Enter the number of stock you want to query:')\n",
    "        try:\n",
    "            limit = int(limit)\n",
    "            return limit\n",
    "        except:\n",
    "            print('The number you enter is not correct')\n",
    "            limit = False\n",
    "        \n",
    "    "
   ]
  },
  {
   "cell_type": "markdown",
   "metadata": {},
   "source": [
    "#### Get date range for the search. The date is limited to after 2010 for now. \n",
    "#### !!!! If User is querying two companys, one goes public before 2010 and one after, then the regression might have a problem "
   ]
  },
  {
   "cell_type": "code",
   "execution_count": 12,
   "metadata": {},
   "outputs": [],
   "source": [
    "#get dates\n",
    "def get_year():\n",
    "    right_year = False\n",
    "    while right_year == False:\n",
    "        print('Date format: YYYYMMDD')\n",
    "        start_year = input('Search Start year (Press enter to pass):')\n",
    "        end_year = input('Search end year (Press enter to pass):')\n",
    "        right_year = date_validation(start_year, end_year)\n",
    "        if right_year:\n",
    "            start = str(pd.to_datetime(start_year,format='%Y-%m-%d'))\n",
    "            end = str(pd.to_datetime(end_year,format='%Y-%m-%d'))\n",
    "            return start, end\n",
    "        else:\n",
    "            right_year = False\n",
    "\n",
    "#returns either False or valid date as pair [start,end]\n",
    "def date_validation(start, end):\n",
    "    current_date = int(date.today().strftime('%Y%m%d'))\n",
    "\n",
    "    #see if user entered the right date\n",
    "    try:\n",
    "        start_test = pd.to_datetime(start,format='%Y%m%d')\n",
    "        end_test = pd.to_datetime(end,format='%Y%m%d')\n",
    "    #when the user enter the wrong content - entering anyting other than numbers \n",
    "    except:\n",
    "        print('Please enter the right date')\n",
    "        return False\n",
    "    #check if reasonable begin &end date\n",
    "    start = int(start)\n",
    "    end = int(end)\n",
    "    ### the number in the if statement can be changed to any date in %y%m%d format\n",
    "    if start> current_date or start < 20100101 or end <20100101 or (end - start)<0 or end>current_date:\n",
    "        print('Please check the year entry. The application do not support search prior to 2010.')\n",
    "        return False\n",
    "    else:\n",
    "        return True"
   ]
  },
  {
   "cell_type": "markdown",
   "metadata": {},
   "source": [
    "#### ask user which bench market they want. We are limiting to just SP500, Russel 3000 and Nasdaq composite for now"
   ]
  },
  {
   "cell_type": "code",
   "execution_count": 13,
   "metadata": {},
   "outputs": [],
   "source": [
    "def get_benchmark():\n",
    "    user_input = False\n",
    "    while user_input == False:\n",
    "        user_input = input('Enter the bench mark (options: Press 1 for SP500, Press 2 for Russell 3000, Press 3 for Nasdaq):')\n",
    "        if user_input == '1':\n",
    "            return '^GSPC'\n",
    "        elif user_input == '2':\n",
    "            return 'RUA'\n",
    "        elif user_input == '3':\n",
    "            return '.IXIC'\n",
    "        else:\n",
    "            print('Sorry, we do not currently support other tickers')\n",
    "            user_input = False\n",
    "                "
   ]
  },
  {
   "cell_type": "markdown",
   "metadata": {},
   "source": [
    "#### Query the risk free rate from user. It's restricting user to enter anything from 0 percent to 10 percent. If user enters otherwise, error will show and ask again."
   ]
  },
  {
   "cell_type": "code",
   "execution_count": 14,
   "metadata": {},
   "outputs": [],
   "source": [
    "def get_riskfree():\n",
    "#     current_date = int(datetime.strftime(datetime.now() - timedelta(1), '%Y-%m-%d'))\n",
    "#     rf = \n",
    "    user_input = False\n",
    "    while user_input == False:\n",
    "        \n",
    "        user_input = input('Enter the risk free rate(please enter in percentage): ')\n",
    "        user_input = user_input.replace('%','')\n",
    "        try:\n",
    "            rf = float(user_input)\n",
    "        except:\n",
    "            user_input = False\n",
    "\n",
    "        if rf<0 or rf>10:\n",
    "            print('The risk free rate does not seem right, please enter again')\n",
    "            user_input = False\n",
    "        return rf/100"
   ]
  },
  {
   "cell_type": "code",
   "execution_count": null,
   "metadata": {},
   "outputs": [],
   "source": []
  },
  {
   "cell_type": "code",
   "execution_count": null,
   "metadata": {},
   "outputs": [],
   "source": []
  },
  {
   "cell_type": "code",
   "execution_count": null,
   "metadata": {},
   "outputs": [],
   "source": []
  },
  {
   "cell_type": "code",
   "execution_count": null,
   "metadata": {},
   "outputs": [],
   "source": []
  }
 ],
 "metadata": {
  "kernelspec": {
   "display_name": "Python 3",
   "language": "python",
   "name": "python3"
  }
 },
 "nbformat": 4,
 "nbformat_minor": 2
}
